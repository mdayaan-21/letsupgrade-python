{
  "nbformat": 4,
  "nbformat_minor": 0,
  "metadata": {
    "colab": {
      "name": "Assignment Day 8.ipynb",
      "provenance": [],
      "collapsed_sections": [],
      "authorship_tag": "ABX9TyM712yjW/qg5ca5IGlSmqy0"
    },
    "kernelspec": {
      "name": "python3",
      "display_name": "Python 3"
    }
  },
  "cells": [
    {
      "cell_type": "markdown",
      "metadata": {
        "id": "T9XAPQgvlVBO",
        "colab_type": "text"
      },
      "source": [
        "Assignment 1"
      ]
    },
    {
      "cell_type": "code",
      "metadata": {
        "id": "rX5AGwXblXlt",
        "colab_type": "code",
        "colab": {
          "base_uri": "https://localhost:8080/",
          "height": 35
        },
        "outputId": "ad5a5ac2-8d29-4589-b807-1a109028bb3c"
      },
      "source": [
        "try:\n",
        "   fh = open(\"test\", \"r\")\n",
        "   fh.write(\"This Assignement 1 Day 8 Error Handling!!\")\n",
        "except IOError:\n",
        "   print (\"Error: Read only File\")\n",
        "else:\n",
        "   print (\"Written content in the file successfully\")"
      ],
      "execution_count": 1,
      "outputs": [
        {
          "output_type": "stream",
          "text": [
            "Error: Read only File\n"
          ],
          "name": "stdout"
        }
      ]
    },
    {
      "cell_type": "markdown",
      "metadata": {
        "id": "GoE1UIy4lX_b",
        "colab_type": "text"
      },
      "source": [
        "Assignment 2"
      ]
    },
    {
      "cell_type": "code",
      "metadata": {
        "id": "B48wr-Le1yD-",
        "colab_type": "code",
        "colab": {
          "base_uri": "https://localhost:8080/",
          "height": 35
        },
        "outputId": "c9c6fe8b-462c-4164-cab0-ba111939ff21"
      },
      "source": [
        "def fi(no):\n",
        "  def fib(n):\n",
        "    if n == 0:\n",
        "        return 0\n",
        "    elif n == 1:\n",
        "        return 1\n",
        "    else:\n",
        "        return fib(n-1) + fib(n-2) \n",
        "  result = \"Fibonacci Series is \" + str(fib(no))\n",
        "  return result\n",
        "print(fi(7))"
      ],
      "execution_count": 42,
      "outputs": [
        {
          "output_type": "stream",
          "text": [
            "Fibonacci Series is 13\n"
          ],
          "name": "stdout"
        }
      ]
    }
  ]
}