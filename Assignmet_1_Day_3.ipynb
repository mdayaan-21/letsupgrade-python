{
  "nbformat": 4,
  "nbformat_minor": 0,
  "metadata": {
    "colab": {
      "name": "Assignmet 1 Day 3.ipynb",
      "provenance": [],
      "collapsed_sections": [],
      "authorship_tag": "ABX9TyOgLoE7cQp5GT5NgzZZocgZ",
      "include_colab_link": true
    },
    "kernelspec": {
      "name": "python3",
      "display_name": "Python 3"
    }
  },
  "cells": [
    {
      "cell_type": "markdown",
      "metadata": {
        "id": "view-in-github",
        "colab_type": "text"
      },
      "source": [
        "<a href=\"https://colab.research.google.com/github/mdayaan-21/letsupgrade-python/blob/master/Assignmet_1_Day_3.ipynb\" target=\"_parent\"><img src=\"https://colab.research.google.com/assets/colab-badge.svg\" alt=\"Open In Colab\"/></a>"
      ]
    },
    {
      "cell_type": "code",
      "metadata": {
        "id": "1A-e1ab3lvI-",
        "colab_type": "code",
        "colab": {
          "base_uri": "https://localhost:8080/",
          "height": 51
        },
        "outputId": "9d02c0a2-364a-4e8f-8852-91adecf263ce"
      },
      "source": [
        "x = int(input(\"Enter the Altitude: \"))\n",
        "if x<=1000:\n",
        "    print(\"Safe to land\")\n",
        "elif x>1000 and x<=5000:\n",
        "    print(\"Bring down to 1000ft\")\n",
        "else:\n",
        "    print(\"Turn Around\")"
      ],
      "execution_count": 6,
      "outputs": [
        {
          "output_type": "stream",
          "text": [
            "Enter the Altitude: 6000\n",
            "Turn Around\n"
          ],
          "name": "stdout"
        }
      ]
    }
  ]
}