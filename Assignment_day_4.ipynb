{
  "nbformat": 4,
  "nbformat_minor": 0,
  "metadata": {
    "colab": {
      "name": "Assignment day-4.ipynb",
      "provenance": [],
      "collapsed_sections": [],
      "authorship_tag": "ABX9TyMYW6fgAFjEJYq/YYBgpu8l",
      "include_colab_link": true
    },
    "kernelspec": {
      "name": "python3",
      "display_name": "Python 3"
    }
  },
  "cells": [
    {
      "cell_type": "markdown",
      "metadata": {
        "id": "view-in-github",
        "colab_type": "text"
      },
      "source": [
        "<a href=\"https://colab.research.google.com/github/mdayaan-21/letsupgrade-python/blob/master/Assignment_day_4.ipynb\" target=\"_parent\"><img src=\"https://colab.research.google.com/assets/colab-badge.svg\" alt=\"Open In Colab\"/></a>"
      ]
    },
    {
      "cell_type": "markdown",
      "metadata": {
        "id": "g2weqHbqIr8e",
        "colab_type": "text"
      },
      "source": [
        "Amstrong Number"
      ]
    },
    {
      "cell_type": "code",
      "metadata": {
        "id": "yqi8OrTyIwRb",
        "colab_type": "code",
        "colab": {
          "base_uri": "https://localhost:8080/",
          "height": 35
        },
        "outputId": "7eae7952-888f-4a5e-8c36-82fb0edb1feb"
      },
      "source": [
        "for num in range(1042000,702648265):\n",
        "    order = len(str(num))\n",
        "    sum = 0\n",
        "    temp = num\n",
        "    while temp > 0:\n",
        "       digit = temp % 10\n",
        "       sum += digit ** order\n",
        "       temp //= 10\n",
        " \n",
        "    if num == sum:\n",
        "       print('The frist armstrong number is', num)\n",
        "       break;"
      ],
      "execution_count": 7,
      "outputs": [
        {
          "output_type": "stream",
          "text": [
            "The frist armstrong number is 1741725\n"
          ],
          "name": "stdout"
        }
      ]
    }
  ]
}